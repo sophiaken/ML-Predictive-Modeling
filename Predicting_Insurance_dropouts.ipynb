{
  "nbformat": 4,
  "nbformat_minor": 0,
  "metadata": {
    "colab": {
      "name": "Insurance.ipynb",
      "provenance": [],
      "collapsed_sections": []
    },
    "kernelspec": {
      "name": "python3",
      "display_name": "Python 3"
    }
  },
  "cells": [
    {
      "cell_type": "code",
      "metadata": {
        "id": "6UPajyfpfztK",
        "colab_type": "code",
        "colab": {
          "base_uri": "https://localhost:8080/",
          "height": 72
        },
        "outputId": "4e058005-0e56-4917-98b0-a51a33e53b51"
      },
      "source": [
        "#Libraries imported\n",
        "import pandas as pd\n",
        "import numpy as np\n",
        "import seaborn as sns\n",
        "import matplotlib.pyplot as plt\n",
        "from array import array"
      ],
      "execution_count": 1,
      "outputs": [
        {
          "output_type": "stream",
          "text": [
            "/usr/local/lib/python3.6/dist-packages/statsmodels/tools/_testing.py:19: FutureWarning: pandas.util.testing is deprecated. Use the functions in the public API at pandas.testing instead.\n",
            "  import pandas.util.testing as tm\n"
          ],
          "name": "stderr"
        }
      ]
    },
    {
      "cell_type": "code",
      "metadata": {
        "id": "DVpbEvd5opaE",
        "colab_type": "code",
        "colab": {}
      },
      "source": [
        "df=pd.read_csv(\"Round2-DataScience-HomeworkData.csv\")"
      ],
      "execution_count": 2,
      "outputs": []
    },
    {
      "cell_type": "markdown",
      "metadata": {
        "id": "aMtwdnPeDgn_",
        "colab_type": "text"
      },
      "source": [
        "Details about the dataset "
      ]
    },
    {
      "cell_type": "code",
      "metadata": {
        "id": "hX_La_wfDgAd",
        "colab_type": "code",
        "colab": {
          "base_uri": "https://localhost:8080/",
          "height": 35
        },
        "outputId": "5a97b933-c7b7-4b0f-dee0-d38d15f032e3"
      },
      "source": [
        "df.shape"
      ],
      "execution_count": 3,
      "outputs": [
        {
          "output_type": "execute_result",
          "data": {
            "text/plain": [
              "(76995, 17)"
            ]
          },
          "metadata": {
            "tags": []
          },
          "execution_count": 3
        }
      ]
    },
    {
      "cell_type": "code",
      "metadata": {
        "id": "jh8cBfoeEAy_",
        "colab_type": "code",
        "colab": {
          "base_uri": "https://localhost:8080/",
          "height": 329
        },
        "outputId": "a5bc2fcc-0a81-47ec-c764-d193df731a05"
      },
      "source": [
        "df.dtypes"
      ],
      "execution_count": 4,
      "outputs": [
        {
          "output_type": "execute_result",
          "data": {
            "text/plain": [
              "MEMBER_ID              object\n",
              "LOB                    object\n",
              "Voluntary              object\n",
              "churned                 int64\n",
              "Tenure                  int64\n",
              "hadGap.                 int64\n",
              "Age                     int64\n",
              "SDOHScore             float64\n",
              "conditionScore        float64\n",
              "substanceScore        float64\n",
              "physFrailtyScore      float64\n",
              "mentalFrailtyScore    float64\n",
              "EDCost                float64\n",
              "EDCount               float64\n",
              "IPCost                float64\n",
              "IPCount               float64\n",
              "State                  object\n",
              "dtype: object"
            ]
          },
          "metadata": {
            "tags": []
          },
          "execution_count": 4
        }
      ]
    },
    {
      "cell_type": "markdown",
      "metadata": {
        "id": "hSKMgjUxrWWZ",
        "colab_type": "text"
      },
      "source": [
        "Getting summary of statistics for each features ."
      ]
    },
    {
      "cell_type": "code",
      "metadata": {
        "id": "RIslwl0Mo2El",
        "colab_type": "code",
        "colab": {
          "base_uri": "https://localhost:8080/",
          "height": 314
        },
        "outputId": "72c2d756-d445-4962-f3c0-76356e5943bd"
      },
      "source": [
        "df.describe()"
      ],
      "execution_count": 5,
      "outputs": [
        {
          "output_type": "execute_result",
          "data": {
            "text/html": [
              "<div>\n",
              "<style scoped>\n",
              "    .dataframe tbody tr th:only-of-type {\n",
              "        vertical-align: middle;\n",
              "    }\n",
              "\n",
              "    .dataframe tbody tr th {\n",
              "        vertical-align: top;\n",
              "    }\n",
              "\n",
              "    .dataframe thead th {\n",
              "        text-align: right;\n",
              "    }\n",
              "</style>\n",
              "<table border=\"1\" class=\"dataframe\">\n",
              "  <thead>\n",
              "    <tr style=\"text-align: right;\">\n",
              "      <th></th>\n",
              "      <th>churned</th>\n",
              "      <th>Tenure</th>\n",
              "      <th>hadGap.</th>\n",
              "      <th>Age</th>\n",
              "      <th>SDOHScore</th>\n",
              "      <th>conditionScore</th>\n",
              "      <th>substanceScore</th>\n",
              "      <th>physFrailtyScore</th>\n",
              "      <th>mentalFrailtyScore</th>\n",
              "      <th>EDCost</th>\n",
              "      <th>EDCount</th>\n",
              "      <th>IPCost</th>\n",
              "      <th>IPCount</th>\n",
              "    </tr>\n",
              "  </thead>\n",
              "  <tbody>\n",
              "    <tr>\n",
              "      <th>count</th>\n",
              "      <td>76995.000000</td>\n",
              "      <td>76995.000000</td>\n",
              "      <td>76995.000000</td>\n",
              "      <td>76995.000000</td>\n",
              "      <td>76995.000000</td>\n",
              "      <td>76995.00000</td>\n",
              "      <td>76995.000000</td>\n",
              "      <td>76995.000000</td>\n",
              "      <td>76995.000000</td>\n",
              "      <td>66365.000000</td>\n",
              "      <td>66365.000000</td>\n",
              "      <td>6.636500e+04</td>\n",
              "      <td>66365.000000</td>\n",
              "    </tr>\n",
              "    <tr>\n",
              "      <th>mean</th>\n",
              "      <td>0.327372</td>\n",
              "      <td>1429.131268</td>\n",
              "      <td>0.115852</td>\n",
              "      <td>60.320008</td>\n",
              "      <td>0.264275</td>\n",
              "      <td>0.18384</td>\n",
              "      <td>0.077503</td>\n",
              "      <td>0.077058</td>\n",
              "      <td>0.224086</td>\n",
              "      <td>1050.521080</td>\n",
              "      <td>1.688194</td>\n",
              "      <td>4.700686e+03</td>\n",
              "      <td>0.524388</td>\n",
              "    </tr>\n",
              "    <tr>\n",
              "      <th>std</th>\n",
              "      <td>0.469257</td>\n",
              "      <td>1378.630014</td>\n",
              "      <td>0.320049</td>\n",
              "      <td>14.588613</td>\n",
              "      <td>0.516757</td>\n",
              "      <td>0.21631</td>\n",
              "      <td>0.154429</td>\n",
              "      <td>0.104734</td>\n",
              "      <td>0.249983</td>\n",
              "      <td>2881.194445</td>\n",
              "      <td>4.093950</td>\n",
              "      <td>1.759468e+04</td>\n",
              "      <td>1.575237</td>\n",
              "    </tr>\n",
              "    <tr>\n",
              "      <th>min</th>\n",
              "      <td>0.000000</td>\n",
              "      <td>0.000000</td>\n",
              "      <td>0.000000</td>\n",
              "      <td>15.000000</td>\n",
              "      <td>0.000000</td>\n",
              "      <td>0.00000</td>\n",
              "      <td>0.000000</td>\n",
              "      <td>0.000000</td>\n",
              "      <td>0.000000</td>\n",
              "      <td>0.000000</td>\n",
              "      <td>0.000000</td>\n",
              "      <td>0.000000e+00</td>\n",
              "      <td>0.000000</td>\n",
              "    </tr>\n",
              "    <tr>\n",
              "      <th>25%</th>\n",
              "      <td>0.000000</td>\n",
              "      <td>335.000000</td>\n",
              "      <td>0.000000</td>\n",
              "      <td>52.000000</td>\n",
              "      <td>0.003828</td>\n",
              "      <td>0.00000</td>\n",
              "      <td>0.000000</td>\n",
              "      <td>0.000000</td>\n",
              "      <td>0.000000</td>\n",
              "      <td>0.000000</td>\n",
              "      <td>0.000000</td>\n",
              "      <td>0.000000e+00</td>\n",
              "      <td>0.000000</td>\n",
              "    </tr>\n",
              "    <tr>\n",
              "      <th>50%</th>\n",
              "      <td>0.000000</td>\n",
              "      <td>931.000000</td>\n",
              "      <td>0.000000</td>\n",
              "      <td>62.000000</td>\n",
              "      <td>0.033894</td>\n",
              "      <td>0.15000</td>\n",
              "      <td>0.000000</td>\n",
              "      <td>0.000000</td>\n",
              "      <td>0.000000</td>\n",
              "      <td>122.210000</td>\n",
              "      <td>1.000000</td>\n",
              "      <td>0.000000e+00</td>\n",
              "      <td>0.000000</td>\n",
              "    </tr>\n",
              "    <tr>\n",
              "      <th>75%</th>\n",
              "      <td>1.000000</td>\n",
              "      <td>2026.000000</td>\n",
              "      <td>0.000000</td>\n",
              "      <td>70.000000</td>\n",
              "      <td>0.293096</td>\n",
              "      <td>0.30000</td>\n",
              "      <td>0.000000</td>\n",
              "      <td>0.111111</td>\n",
              "      <td>0.500000</td>\n",
              "      <td>1068.440000</td>\n",
              "      <td>2.000000</td>\n",
              "      <td>0.000000e+00</td>\n",
              "      <td>0.000000</td>\n",
              "    </tr>\n",
              "    <tr>\n",
              "      <th>max</th>\n",
              "      <td>1.000000</td>\n",
              "      <td>4552.000000</td>\n",
              "      <td>1.000000</td>\n",
              "      <td>107.000000</td>\n",
              "      <td>8.115451</td>\n",
              "      <td>1.00000</td>\n",
              "      <td>1.000000</td>\n",
              "      <td>0.777778</td>\n",
              "      <td>1.000000</td>\n",
              "      <td>267123.170000</td>\n",
              "      <td>287.000000</td>\n",
              "      <td>1.381901e+06</td>\n",
              "      <td>80.000000</td>\n",
              "    </tr>\n",
              "  </tbody>\n",
              "</table>\n",
              "</div>"
            ],
            "text/plain": [
              "            churned        Tenure  ...        IPCost       IPCount\n",
              "count  76995.000000  76995.000000  ...  6.636500e+04  66365.000000\n",
              "mean       0.327372   1429.131268  ...  4.700686e+03      0.524388\n",
              "std        0.469257   1378.630014  ...  1.759468e+04      1.575237\n",
              "min        0.000000      0.000000  ...  0.000000e+00      0.000000\n",
              "25%        0.000000    335.000000  ...  0.000000e+00      0.000000\n",
              "50%        0.000000    931.000000  ...  0.000000e+00      0.000000\n",
              "75%        1.000000   2026.000000  ...  0.000000e+00      0.000000\n",
              "max        1.000000   4552.000000  ...  1.381901e+06     80.000000\n",
              "\n",
              "[8 rows x 13 columns]"
            ]
          },
          "metadata": {
            "tags": []
          },
          "execution_count": 5
        }
      ]
    },
    {
      "cell_type": "markdown",
      "metadata": {
        "id": "KJswGhcF0BP1",
        "colab_type": "text"
      },
      "source": [
        "*DATA CLEANING *"
      ]
    },
    {
      "cell_type": "markdown",
      "metadata": {
        "id": "OI_PzxdOsFpo",
        "colab_type": "text"
      },
      "source": [
        "Handling Errors and Missing values"
      ]
    },
    {
      "cell_type": "code",
      "metadata": {
        "id": "z8c3NT5hFoMQ",
        "colab_type": "code",
        "colab": {
          "base_uri": "https://localhost:8080/",
          "height": 435
        },
        "outputId": "c5120276-246e-4c18-ea9d-b830f02e7a4f"
      },
      "source": [
        "df.isnull()"
      ],
      "execution_count": 6,
      "outputs": [
        {
          "output_type": "execute_result",
          "data": {
            "text/html": [
              "<div>\n",
              "<style scoped>\n",
              "    .dataframe tbody tr th:only-of-type {\n",
              "        vertical-align: middle;\n",
              "    }\n",
              "\n",
              "    .dataframe tbody tr th {\n",
              "        vertical-align: top;\n",
              "    }\n",
              "\n",
              "    .dataframe thead th {\n",
              "        text-align: right;\n",
              "    }\n",
              "</style>\n",
              "<table border=\"1\" class=\"dataframe\">\n",
              "  <thead>\n",
              "    <tr style=\"text-align: right;\">\n",
              "      <th></th>\n",
              "      <th>MEMBER_ID</th>\n",
              "      <th>LOB</th>\n",
              "      <th>Voluntary</th>\n",
              "      <th>churned</th>\n",
              "      <th>Tenure</th>\n",
              "      <th>hadGap.</th>\n",
              "      <th>Age</th>\n",
              "      <th>SDOHScore</th>\n",
              "      <th>conditionScore</th>\n",
              "      <th>substanceScore</th>\n",
              "      <th>physFrailtyScore</th>\n",
              "      <th>mentalFrailtyScore</th>\n",
              "      <th>EDCost</th>\n",
              "      <th>EDCount</th>\n",
              "      <th>IPCost</th>\n",
              "      <th>IPCount</th>\n",
              "      <th>State</th>\n",
              "    </tr>\n",
              "  </thead>\n",
              "  <tbody>\n",
              "    <tr>\n",
              "      <th>0</th>\n",
              "      <td>False</td>\n",
              "      <td>False</td>\n",
              "      <td>True</td>\n",
              "      <td>False</td>\n",
              "      <td>False</td>\n",
              "      <td>False</td>\n",
              "      <td>False</td>\n",
              "      <td>False</td>\n",
              "      <td>False</td>\n",
              "      <td>False</td>\n",
              "      <td>False</td>\n",
              "      <td>False</td>\n",
              "      <td>False</td>\n",
              "      <td>False</td>\n",
              "      <td>False</td>\n",
              "      <td>False</td>\n",
              "      <td>False</td>\n",
              "    </tr>\n",
              "    <tr>\n",
              "      <th>1</th>\n",
              "      <td>False</td>\n",
              "      <td>False</td>\n",
              "      <td>True</td>\n",
              "      <td>False</td>\n",
              "      <td>False</td>\n",
              "      <td>False</td>\n",
              "      <td>False</td>\n",
              "      <td>False</td>\n",
              "      <td>False</td>\n",
              "      <td>False</td>\n",
              "      <td>False</td>\n",
              "      <td>False</td>\n",
              "      <td>False</td>\n",
              "      <td>False</td>\n",
              "      <td>False</td>\n",
              "      <td>False</td>\n",
              "      <td>False</td>\n",
              "    </tr>\n",
              "    <tr>\n",
              "      <th>2</th>\n",
              "      <td>False</td>\n",
              "      <td>False</td>\n",
              "      <td>True</td>\n",
              "      <td>False</td>\n",
              "      <td>False</td>\n",
              "      <td>False</td>\n",
              "      <td>False</td>\n",
              "      <td>False</td>\n",
              "      <td>False</td>\n",
              "      <td>False</td>\n",
              "      <td>False</td>\n",
              "      <td>False</td>\n",
              "      <td>False</td>\n",
              "      <td>False</td>\n",
              "      <td>False</td>\n",
              "      <td>False</td>\n",
              "      <td>False</td>\n",
              "    </tr>\n",
              "    <tr>\n",
              "      <th>3</th>\n",
              "      <td>False</td>\n",
              "      <td>False</td>\n",
              "      <td>True</td>\n",
              "      <td>False</td>\n",
              "      <td>False</td>\n",
              "      <td>False</td>\n",
              "      <td>False</td>\n",
              "      <td>False</td>\n",
              "      <td>False</td>\n",
              "      <td>False</td>\n",
              "      <td>False</td>\n",
              "      <td>False</td>\n",
              "      <td>False</td>\n",
              "      <td>False</td>\n",
              "      <td>False</td>\n",
              "      <td>False</td>\n",
              "      <td>False</td>\n",
              "    </tr>\n",
              "    <tr>\n",
              "      <th>4</th>\n",
              "      <td>False</td>\n",
              "      <td>False</td>\n",
              "      <td>True</td>\n",
              "      <td>False</td>\n",
              "      <td>False</td>\n",
              "      <td>False</td>\n",
              "      <td>False</td>\n",
              "      <td>False</td>\n",
              "      <td>False</td>\n",
              "      <td>False</td>\n",
              "      <td>False</td>\n",
              "      <td>False</td>\n",
              "      <td>False</td>\n",
              "      <td>False</td>\n",
              "      <td>False</td>\n",
              "      <td>False</td>\n",
              "      <td>False</td>\n",
              "    </tr>\n",
              "    <tr>\n",
              "      <th>...</th>\n",
              "      <td>...</td>\n",
              "      <td>...</td>\n",
              "      <td>...</td>\n",
              "      <td>...</td>\n",
              "      <td>...</td>\n",
              "      <td>...</td>\n",
              "      <td>...</td>\n",
              "      <td>...</td>\n",
              "      <td>...</td>\n",
              "      <td>...</td>\n",
              "      <td>...</td>\n",
              "      <td>...</td>\n",
              "      <td>...</td>\n",
              "      <td>...</td>\n",
              "      <td>...</td>\n",
              "      <td>...</td>\n",
              "      <td>...</td>\n",
              "    </tr>\n",
              "    <tr>\n",
              "      <th>76990</th>\n",
              "      <td>False</td>\n",
              "      <td>False</td>\n",
              "      <td>True</td>\n",
              "      <td>False</td>\n",
              "      <td>False</td>\n",
              "      <td>False</td>\n",
              "      <td>False</td>\n",
              "      <td>False</td>\n",
              "      <td>False</td>\n",
              "      <td>False</td>\n",
              "      <td>False</td>\n",
              "      <td>False</td>\n",
              "      <td>False</td>\n",
              "      <td>False</td>\n",
              "      <td>False</td>\n",
              "      <td>False</td>\n",
              "      <td>False</td>\n",
              "    </tr>\n",
              "    <tr>\n",
              "      <th>76991</th>\n",
              "      <td>False</td>\n",
              "      <td>False</td>\n",
              "      <td>False</td>\n",
              "      <td>False</td>\n",
              "      <td>False</td>\n",
              "      <td>False</td>\n",
              "      <td>False</td>\n",
              "      <td>False</td>\n",
              "      <td>False</td>\n",
              "      <td>False</td>\n",
              "      <td>False</td>\n",
              "      <td>False</td>\n",
              "      <td>True</td>\n",
              "      <td>True</td>\n",
              "      <td>True</td>\n",
              "      <td>True</td>\n",
              "      <td>False</td>\n",
              "    </tr>\n",
              "    <tr>\n",
              "      <th>76992</th>\n",
              "      <td>False</td>\n",
              "      <td>False</td>\n",
              "      <td>True</td>\n",
              "      <td>False</td>\n",
              "      <td>False</td>\n",
              "      <td>False</td>\n",
              "      <td>False</td>\n",
              "      <td>False</td>\n",
              "      <td>False</td>\n",
              "      <td>False</td>\n",
              "      <td>False</td>\n",
              "      <td>False</td>\n",
              "      <td>False</td>\n",
              "      <td>False</td>\n",
              "      <td>False</td>\n",
              "      <td>False</td>\n",
              "      <td>False</td>\n",
              "    </tr>\n",
              "    <tr>\n",
              "      <th>76993</th>\n",
              "      <td>False</td>\n",
              "      <td>False</td>\n",
              "      <td>False</td>\n",
              "      <td>False</td>\n",
              "      <td>False</td>\n",
              "      <td>False</td>\n",
              "      <td>False</td>\n",
              "      <td>False</td>\n",
              "      <td>False</td>\n",
              "      <td>False</td>\n",
              "      <td>False</td>\n",
              "      <td>False</td>\n",
              "      <td>False</td>\n",
              "      <td>False</td>\n",
              "      <td>False</td>\n",
              "      <td>False</td>\n",
              "      <td>False</td>\n",
              "    </tr>\n",
              "    <tr>\n",
              "      <th>76994</th>\n",
              "      <td>False</td>\n",
              "      <td>False</td>\n",
              "      <td>True</td>\n",
              "      <td>False</td>\n",
              "      <td>False</td>\n",
              "      <td>False</td>\n",
              "      <td>False</td>\n",
              "      <td>False</td>\n",
              "      <td>False</td>\n",
              "      <td>False</td>\n",
              "      <td>False</td>\n",
              "      <td>False</td>\n",
              "      <td>False</td>\n",
              "      <td>False</td>\n",
              "      <td>False</td>\n",
              "      <td>False</td>\n",
              "      <td>False</td>\n",
              "    </tr>\n",
              "  </tbody>\n",
              "</table>\n",
              "<p>76995 rows × 17 columns</p>\n",
              "</div>"
            ],
            "text/plain": [
              "       MEMBER_ID    LOB  Voluntary  churned  ...  EDCount  IPCost  IPCount  State\n",
              "0          False  False       True    False  ...    False   False    False  False\n",
              "1          False  False       True    False  ...    False   False    False  False\n",
              "2          False  False       True    False  ...    False   False    False  False\n",
              "3          False  False       True    False  ...    False   False    False  False\n",
              "4          False  False       True    False  ...    False   False    False  False\n",
              "...          ...    ...        ...      ...  ...      ...     ...      ...    ...\n",
              "76990      False  False       True    False  ...    False   False    False  False\n",
              "76991      False  False      False    False  ...     True    True     True  False\n",
              "76992      False  False       True    False  ...    False   False    False  False\n",
              "76993      False  False      False    False  ...    False   False    False  False\n",
              "76994      False  False       True    False  ...    False   False    False  False\n",
              "\n",
              "[76995 rows x 17 columns]"
            ]
          },
          "metadata": {
            "tags": []
          },
          "execution_count": 6
        }
      ]
    },
    {
      "cell_type": "code",
      "metadata": {
        "id": "sEJ0nk9POl_f",
        "colab_type": "code",
        "colab": {
          "base_uri": "https://localhost:8080/",
          "height": 329
        },
        "outputId": "3d29188b-334a-4a7c-db99-ba47f91e2e34"
      },
      "source": [
        "df.isnull().sum()"
      ],
      "execution_count": 7,
      "outputs": [
        {
          "output_type": "execute_result",
          "data": {
            "text/plain": [
              "MEMBER_ID                 0\n",
              "LOB                       0\n",
              "Voluntary             51789\n",
              "churned                   0\n",
              "Tenure                    0\n",
              "hadGap.                   0\n",
              "Age                       0\n",
              "SDOHScore                 0\n",
              "conditionScore            0\n",
              "substanceScore            0\n",
              "physFrailtyScore          0\n",
              "mentalFrailtyScore        0\n",
              "EDCost                10630\n",
              "EDCount               10630\n",
              "IPCost                10630\n",
              "IPCount               10630\n",
              "State                     0\n",
              "dtype: int64"
            ]
          },
          "metadata": {
            "tags": []
          },
          "execution_count": 7
        }
      ]
    },
    {
      "cell_type": "code",
      "metadata": {
        "id": "4V9veu1hci-1",
        "colab_type": "code",
        "colab": {
          "base_uri": "https://localhost:8080/",
          "height": 35
        },
        "outputId": "a98df261-ebda-4fca-b098-bd37bb0c7eea"
      },
      "source": [
        "df['EDCost'].unique()"
      ],
      "execution_count": 8,
      "outputs": [
        {
          "output_type": "execute_result",
          "data": {
            "text/plain": [
              "array([   0.  ,     nan,  566.09, ..., 2260.36, 1326.07,  505.13])"
            ]
          },
          "metadata": {
            "tags": []
          },
          "execution_count": 8
        }
      ]
    },
    {
      "cell_type": "code",
      "metadata": {
        "id": "R2upFRy0vtaM",
        "colab_type": "code",
        "colab": {
          "base_uri": "https://localhost:8080/",
          "height": 35
        },
        "outputId": "b9690fd1-758d-4f33-8392-c1aabb9a3d3e"
      },
      "source": [
        "df['IPCost'].unique()"
      ],
      "execution_count": 9,
      "outputs": [
        {
          "output_type": "execute_result",
          "data": {
            "text/plain": [
              "array([    0.  ,      nan, 13264.66, ..., 11217.79,  4092.36,  7749.26])"
            ]
          },
          "metadata": {
            "tags": []
          },
          "execution_count": 9
        }
      ]
    },
    {
      "cell_type": "code",
      "metadata": {
        "id": "mY4WZmgOlQ3D",
        "colab_type": "code",
        "colab": {
          "base_uri": "https://localhost:8080/",
          "height": 69
        },
        "outputId": "4534ddc8-33c4-4551-cce1-0de48c4de43e"
      },
      "source": [
        "df['IPCount'].unique()"
      ],
      "execution_count": 10,
      "outputs": [
        {
          "output_type": "execute_result",
          "data": {
            "text/plain": [
              "array([ 0., nan,  1.,  2.,  3.,  5.,  6.,  4.,  7., 18., 10., 13.,  8.,\n",
              "        9., 15., 12., 11., 14., 17., 23., 21., 20., 51., 16., 36., 19.,\n",
              "       47., 80., 22., 27., 24., 25., 37.])"
            ]
          },
          "metadata": {
            "tags": []
          },
          "execution_count": 10
        }
      ]
    },
    {
      "cell_type": "code",
      "metadata": {
        "id": "zDv5FfSZlX4n",
        "colab_type": "code",
        "colab": {
          "base_uri": "https://localhost:8080/",
          "height": 156
        },
        "outputId": "56a5f4c8-d45d-4a81-e7f2-61ba43a44681"
      },
      "source": [
        "df['EDCount'].unique()"
      ],
      "execution_count": 11,
      "outputs": [
        {
          "output_type": "execute_result",
          "data": {
            "text/plain": [
              "array([  0.,  nan,   2.,   1.,   3.,   4.,   9.,   5.,   7.,  16.,   6.,\n",
              "        10.,  35.,  11.,  13.,   8.,  26.,  20.,  15.,  29.,  18.,  12.,\n",
              "        21.,  17.,  33.,  97.,  14.,  22.,  45.,  36.,  49.,  30., 102.,\n",
              "        31.,  70.,  24.,  34.,  25.,  23.,  19.,  52.,  77.,  55.,  47.,\n",
              "        28.,  42.,  53.,  32.,  38.,  62.,  46., 146.,  37.,  43.,  67.,\n",
              "        44.,  59.,  68.,  95., 179.,  27.,  65.,  51.,  40.,  50.,  39.,\n",
              "        83.,  48.,  58., 126.,  41., 230., 127.,  80., 287.,  63.,  88.,\n",
              "       107.,  60., 100.,  54., 122.,  56.,  79.,  89.])"
            ]
          },
          "metadata": {
            "tags": []
          },
          "execution_count": 11
        }
      ]
    },
    {
      "cell_type": "code",
      "metadata": {
        "id": "j1fOU23crj_K",
        "colab_type": "code",
        "colab": {
          "base_uri": "https://localhost:8080/",
          "height": 225
        },
        "outputId": "8d95ce6b-2699-4c02-ca2e-b621c924f887"
      },
      "source": [
        "df[\"Voluntary\"]"
      ],
      "execution_count": 12,
      "outputs": [
        {
          "output_type": "execute_result",
          "data": {
            "text/plain": [
              "0                                   NaN\n",
              "1                                   NaN\n",
              "2                                   NaN\n",
              "3                                   NaN\n",
              "4                                   NaN\n",
              "                      ...              \n",
              "76990                               NaN\n",
              "76991    Involuntary - Medicare / Other\n",
              "76992                               NaN\n",
              "76993                         Voluntary\n",
              "76994                               NaN\n",
              "Name: Voluntary, Length: 76995, dtype: object"
            ]
          },
          "metadata": {
            "tags": []
          },
          "execution_count": 12
        }
      ]
    },
    {
      "cell_type": "code",
      "metadata": {
        "id": "vnoKD6_Xu7ts",
        "colab_type": "code",
        "colab": {
          "base_uri": "https://localhost:8080/",
          "height": 52
        },
        "outputId": "d3a0b1fb-ece8-44bd-e312-9826edb8e6ba"
      },
      "source": [
        "pd.unique(df[['Voluntary','churned']].values.ravel())"
      ],
      "execution_count": 13,
      "outputs": [
        {
          "output_type": "execute_result",
          "data": {
            "text/plain": [
              "array([nan, 0, 'Voluntary', 1, 'Involuntary - Medicare / Other',\n",
              "       'Involuntary - SNP'], dtype=object)"
            ]
          },
          "metadata": {
            "tags": []
          },
          "execution_count": 13
        }
      ]
    },
    {
      "cell_type": "markdown",
      "metadata": {
        "id": "-fQlzIFxv5Gl",
        "colab_type": "text"
      },
      "source": [
        "To know that there are no churned value for nan in Voluntary Column "
      ]
    },
    {
      "cell_type": "code",
      "metadata": {
        "id": "r9iYUN5ivnGj",
        "colab_type": "code",
        "colab": {
          "base_uri": "https://localhost:8080/",
          "height": 104
        },
        "outputId": "62122632-4fd6-4252-8701-8de33fe7ae2d"
      },
      "source": [
        "group = df.groupby('Voluntary')\n",
        "df2 = group.apply(lambda x: x['churned'].unique())\n",
        "df2"
      ],
      "execution_count": 14,
      "outputs": [
        {
          "output_type": "execute_result",
          "data": {
            "text/plain": [
              "Voluntary\n",
              "Involuntary - Medicare / Other    [1]\n",
              "Involuntary - SNP                 [1]\n",
              "Voluntary                         [1]\n",
              "dtype: object"
            ]
          },
          "metadata": {
            "tags": []
          },
          "execution_count": 14
        }
      ]
    },
    {
      "cell_type": "code",
      "metadata": {
        "id": "4qC_0mPbv04r",
        "colab_type": "code",
        "colab": {}
      },
      "source": [
        "df[['Voluntary']] = df[['Voluntary']].fillna(value='NA')"
      ],
      "execution_count": 15,
      "outputs": []
    },
    {
      "cell_type": "code",
      "metadata": {
        "id": "zy1JVXWwykp7",
        "colab_type": "code",
        "colab": {
          "base_uri": "https://localhost:8080/",
          "height": 470
        },
        "outputId": "c3b721c7-3ccf-493e-8db0-5c54952e8256"
      },
      "source": [
        "df"
      ],
      "execution_count": 16,
      "outputs": [
        {
          "output_type": "execute_result",
          "data": {
            "text/html": [
              "<div>\n",
              "<style scoped>\n",
              "    .dataframe tbody tr th:only-of-type {\n",
              "        vertical-align: middle;\n",
              "    }\n",
              "\n",
              "    .dataframe tbody tr th {\n",
              "        vertical-align: top;\n",
              "    }\n",
              "\n",
              "    .dataframe thead th {\n",
              "        text-align: right;\n",
              "    }\n",
              "</style>\n",
              "<table border=\"1\" class=\"dataframe\">\n",
              "  <thead>\n",
              "    <tr style=\"text-align: right;\">\n",
              "      <th></th>\n",
              "      <th>MEMBER_ID</th>\n",
              "      <th>LOB</th>\n",
              "      <th>Voluntary</th>\n",
              "      <th>churned</th>\n",
              "      <th>Tenure</th>\n",
              "      <th>hadGap.</th>\n",
              "      <th>Age</th>\n",
              "      <th>SDOHScore</th>\n",
              "      <th>conditionScore</th>\n",
              "      <th>substanceScore</th>\n",
              "      <th>physFrailtyScore</th>\n",
              "      <th>mentalFrailtyScore</th>\n",
              "      <th>EDCost</th>\n",
              "      <th>EDCount</th>\n",
              "      <th>IPCost</th>\n",
              "      <th>IPCount</th>\n",
              "      <th>State</th>\n",
              "    </tr>\n",
              "  </thead>\n",
              "  <tbody>\n",
              "    <tr>\n",
              "      <th>0</th>\n",
              "      <td>7ea90bb64201ddaf463eb9419ad990d9</td>\n",
              "      <td>LOB2</td>\n",
              "      <td>NA</td>\n",
              "      <td>0</td>\n",
              "      <td>49</td>\n",
              "      <td>0</td>\n",
              "      <td>59</td>\n",
              "      <td>0.018738</td>\n",
              "      <td>0.00</td>\n",
              "      <td>0.0</td>\n",
              "      <td>0.000000</td>\n",
              "      <td>0.0</td>\n",
              "      <td>0.00</td>\n",
              "      <td>0.0</td>\n",
              "      <td>0.00</td>\n",
              "      <td>0.0</td>\n",
              "      <td>PA</td>\n",
              "    </tr>\n",
              "    <tr>\n",
              "      <th>1</th>\n",
              "      <td>6319ce06253302493c1fe5d57d57aba7</td>\n",
              "      <td>LOB1</td>\n",
              "      <td>NA</td>\n",
              "      <td>0</td>\n",
              "      <td>49</td>\n",
              "      <td>0</td>\n",
              "      <td>80</td>\n",
              "      <td>0.012270</td>\n",
              "      <td>0.00</td>\n",
              "      <td>0.0</td>\n",
              "      <td>0.000000</td>\n",
              "      <td>0.0</td>\n",
              "      <td>0.00</td>\n",
              "      <td>0.0</td>\n",
              "      <td>0.00</td>\n",
              "      <td>0.0</td>\n",
              "      <td>PA</td>\n",
              "    </tr>\n",
              "    <tr>\n",
              "      <th>2</th>\n",
              "      <td>e7c98ad14a283b1bb751dd73b76f1ef9</td>\n",
              "      <td>LOB1</td>\n",
              "      <td>NA</td>\n",
              "      <td>0</td>\n",
              "      <td>49</td>\n",
              "      <td>0</td>\n",
              "      <td>45</td>\n",
              "      <td>0.000435</td>\n",
              "      <td>0.00</td>\n",
              "      <td>0.0</td>\n",
              "      <td>0.000000</td>\n",
              "      <td>0.0</td>\n",
              "      <td>0.00</td>\n",
              "      <td>0.0</td>\n",
              "      <td>0.00</td>\n",
              "      <td>0.0</td>\n",
              "      <td>PA</td>\n",
              "    </tr>\n",
              "    <tr>\n",
              "      <th>3</th>\n",
              "      <td>6189fb5bf21454cb7c01f15cb1bb78ec</td>\n",
              "      <td>LOB4</td>\n",
              "      <td>NA</td>\n",
              "      <td>0</td>\n",
              "      <td>49</td>\n",
              "      <td>0</td>\n",
              "      <td>25</td>\n",
              "      <td>0.033174</td>\n",
              "      <td>0.00</td>\n",
              "      <td>0.0</td>\n",
              "      <td>0.000000</td>\n",
              "      <td>0.0</td>\n",
              "      <td>0.00</td>\n",
              "      <td>0.0</td>\n",
              "      <td>0.00</td>\n",
              "      <td>0.0</td>\n",
              "      <td>NC</td>\n",
              "    </tr>\n",
              "    <tr>\n",
              "      <th>4</th>\n",
              "      <td>8793004f217e16c695b043fa78b9c74b</td>\n",
              "      <td>LOB5</td>\n",
              "      <td>NA</td>\n",
              "      <td>0</td>\n",
              "      <td>49</td>\n",
              "      <td>0</td>\n",
              "      <td>66</td>\n",
              "      <td>0.405166</td>\n",
              "      <td>0.00</td>\n",
              "      <td>0.0</td>\n",
              "      <td>0.000000</td>\n",
              "      <td>0.0</td>\n",
              "      <td>0.00</td>\n",
              "      <td>0.0</td>\n",
              "      <td>0.00</td>\n",
              "      <td>0.0</td>\n",
              "      <td>OH</td>\n",
              "    </tr>\n",
              "    <tr>\n",
              "      <th>...</th>\n",
              "      <td>...</td>\n",
              "      <td>...</td>\n",
              "      <td>...</td>\n",
              "      <td>...</td>\n",
              "      <td>...</td>\n",
              "      <td>...</td>\n",
              "      <td>...</td>\n",
              "      <td>...</td>\n",
              "      <td>...</td>\n",
              "      <td>...</td>\n",
              "      <td>...</td>\n",
              "      <td>...</td>\n",
              "      <td>...</td>\n",
              "      <td>...</td>\n",
              "      <td>...</td>\n",
              "      <td>...</td>\n",
              "      <td>...</td>\n",
              "    </tr>\n",
              "    <tr>\n",
              "      <th>76990</th>\n",
              "      <td>961d9e7363a1e93ef1876c84902a8814</td>\n",
              "      <td>LOB1</td>\n",
              "      <td>NA</td>\n",
              "      <td>0</td>\n",
              "      <td>4552</td>\n",
              "      <td>0</td>\n",
              "      <td>38</td>\n",
              "      <td>0.364924</td>\n",
              "      <td>0.10</td>\n",
              "      <td>0.0</td>\n",
              "      <td>0.000000</td>\n",
              "      <td>0.0</td>\n",
              "      <td>0.00</td>\n",
              "      <td>0.0</td>\n",
              "      <td>0.00</td>\n",
              "      <td>0.0</td>\n",
              "      <td>PA</td>\n",
              "    </tr>\n",
              "    <tr>\n",
              "      <th>76991</th>\n",
              "      <td>6c758a8b40551f58859ae4a13753ff35</td>\n",
              "      <td>LOB1</td>\n",
              "      <td>Involuntary - Medicare / Other</td>\n",
              "      <td>1</td>\n",
              "      <td>21</td>\n",
              "      <td>0</td>\n",
              "      <td>75</td>\n",
              "      <td>0.000470</td>\n",
              "      <td>0.15</td>\n",
              "      <td>0.0</td>\n",
              "      <td>0.111111</td>\n",
              "      <td>0.0</td>\n",
              "      <td>NaN</td>\n",
              "      <td>NaN</td>\n",
              "      <td>NaN</td>\n",
              "      <td>NaN</td>\n",
              "      <td>PA</td>\n",
              "    </tr>\n",
              "    <tr>\n",
              "      <th>76992</th>\n",
              "      <td>4c293edf31e79b408e231651a3b1448f</td>\n",
              "      <td>LOB1</td>\n",
              "      <td>NA</td>\n",
              "      <td>0</td>\n",
              "      <td>2087</td>\n",
              "      <td>1</td>\n",
              "      <td>51</td>\n",
              "      <td>0.001049</td>\n",
              "      <td>0.00</td>\n",
              "      <td>0.0</td>\n",
              "      <td>0.000000</td>\n",
              "      <td>0.0</td>\n",
              "      <td>0.00</td>\n",
              "      <td>1.0</td>\n",
              "      <td>0.00</td>\n",
              "      <td>0.0</td>\n",
              "      <td>PA</td>\n",
              "    </tr>\n",
              "    <tr>\n",
              "      <th>76993</th>\n",
              "      <td>87b2ee8c4461df5ac5f75efab9b09916</td>\n",
              "      <td>LOB2</td>\n",
              "      <td>Voluntary</td>\n",
              "      <td>1</td>\n",
              "      <td>91</td>\n",
              "      <td>0</td>\n",
              "      <td>70</td>\n",
              "      <td>0.001333</td>\n",
              "      <td>0.35</td>\n",
              "      <td>0.0</td>\n",
              "      <td>0.000000</td>\n",
              "      <td>0.5</td>\n",
              "      <td>1326.07</td>\n",
              "      <td>1.0</td>\n",
              "      <td>7749.26</td>\n",
              "      <td>1.0</td>\n",
              "      <td>PA</td>\n",
              "    </tr>\n",
              "    <tr>\n",
              "      <th>76994</th>\n",
              "      <td>e125a0255398f478c3d5e2e5ab09d0b8</td>\n",
              "      <td>LOB1</td>\n",
              "      <td>NA</td>\n",
              "      <td>0</td>\n",
              "      <td>4552</td>\n",
              "      <td>0</td>\n",
              "      <td>45</td>\n",
              "      <td>0.013788</td>\n",
              "      <td>0.00</td>\n",
              "      <td>0.0</td>\n",
              "      <td>0.111111</td>\n",
              "      <td>0.0</td>\n",
              "      <td>505.13</td>\n",
              "      <td>2.0</td>\n",
              "      <td>0.00</td>\n",
              "      <td>0.0</td>\n",
              "      <td>PA</td>\n",
              "    </tr>\n",
              "  </tbody>\n",
              "</table>\n",
              "<p>76995 rows × 17 columns</p>\n",
              "</div>"
            ],
            "text/plain": [
              "                              MEMBER_ID   LOB  ... IPCount  State\n",
              "0      7ea90bb64201ddaf463eb9419ad990d9  LOB2  ...     0.0     PA\n",
              "1      6319ce06253302493c1fe5d57d57aba7  LOB1  ...     0.0     PA\n",
              "2      e7c98ad14a283b1bb751dd73b76f1ef9  LOB1  ...     0.0     PA\n",
              "3      6189fb5bf21454cb7c01f15cb1bb78ec  LOB4  ...     0.0     NC\n",
              "4      8793004f217e16c695b043fa78b9c74b  LOB5  ...     0.0     OH\n",
              "...                                 ...   ...  ...     ...    ...\n",
              "76990  961d9e7363a1e93ef1876c84902a8814  LOB1  ...     0.0     PA\n",
              "76991  6c758a8b40551f58859ae4a13753ff35  LOB1  ...     NaN     PA\n",
              "76992  4c293edf31e79b408e231651a3b1448f  LOB1  ...     0.0     PA\n",
              "76993  87b2ee8c4461df5ac5f75efab9b09916  LOB2  ...     1.0     PA\n",
              "76994  e125a0255398f478c3d5e2e5ab09d0b8  LOB1  ...     0.0     PA\n",
              "\n",
              "[76995 rows x 17 columns]"
            ]
          },
          "metadata": {
            "tags": []
          },
          "execution_count": 16
        }
      ]
    },
    {
      "cell_type": "code",
      "metadata": {
        "id": "ig4oCRBA24w3",
        "colab_type": "code",
        "colab": {}
      },
      "source": [
        "df=df.drop(['Voluntary'], axis=1)"
      ],
      "execution_count": 17,
      "outputs": []
    },
    {
      "cell_type": "code",
      "metadata": {
        "id": "mgH5_jQ4zjQ8",
        "colab_type": "code",
        "colab": {}
      },
      "source": [
        "df[['EDCost','IPCost','IPCount','EDCount']] = df[['EDCost','IPCost','IPCount','EDCount']].fillna(value=0)"
      ],
      "execution_count": 18,
      "outputs": []
    },
    {
      "cell_type": "code",
      "metadata": {
        "id": "xC94O4KmyWQK",
        "colab_type": "code",
        "colab": {
          "base_uri": "https://localhost:8080/",
          "height": 312
        },
        "outputId": "e019f0e4-da46-4e7c-c622-89755fabadf5"
      },
      "source": [
        "df.isnull().sum()"
      ],
      "execution_count": 19,
      "outputs": [
        {
          "output_type": "execute_result",
          "data": {
            "text/plain": [
              "MEMBER_ID             0\n",
              "LOB                   0\n",
              "churned               0\n",
              "Tenure                0\n",
              "hadGap.               0\n",
              "Age                   0\n",
              "SDOHScore             0\n",
              "conditionScore        0\n",
              "substanceScore        0\n",
              "physFrailtyScore      0\n",
              "mentalFrailtyScore    0\n",
              "EDCost                0\n",
              "EDCount               0\n",
              "IPCost                0\n",
              "IPCount               0\n",
              "State                 0\n",
              "dtype: int64"
            ]
          },
          "metadata": {
            "tags": []
          },
          "execution_count": 19
        }
      ]
    },
    {
      "cell_type": "markdown",
      "metadata": {
        "id": "ejQ3dgfo0I3n",
        "colab_type": "text"
      },
      "source": [
        "**DATA TRANSFORMATION**"
      ]
    },
    {
      "cell_type": "code",
      "metadata": {
        "id": "vuFlc7Xh0Ryl",
        "colab_type": "code",
        "colab": {
          "base_uri": "https://localhost:8080/",
          "height": 312
        },
        "outputId": "8f9c269e-14f6-40da-a8a3-7865f4b81f42"
      },
      "source": [
        "df.dtypes"
      ],
      "execution_count": 20,
      "outputs": [
        {
          "output_type": "execute_result",
          "data": {
            "text/plain": [
              "MEMBER_ID              object\n",
              "LOB                    object\n",
              "churned                 int64\n",
              "Tenure                  int64\n",
              "hadGap.                 int64\n",
              "Age                     int64\n",
              "SDOHScore             float64\n",
              "conditionScore        float64\n",
              "substanceScore        float64\n",
              "physFrailtyScore      float64\n",
              "mentalFrailtyScore    float64\n",
              "EDCost                float64\n",
              "EDCount               float64\n",
              "IPCost                float64\n",
              "IPCount               float64\n",
              "State                  object\n",
              "dtype: object"
            ]
          },
          "metadata": {
            "tags": []
          },
          "execution_count": 20
        }
      ]
    },
    {
      "cell_type": "code",
      "metadata": {
        "id": "N8_7UXc3H4rr",
        "colab_type": "code",
        "colab": {
          "base_uri": "https://localhost:8080/",
          "height": 222
        },
        "outputId": "055f119c-f02d-43d6-9673-2d04c930f181"
      },
      "source": [
        "df.head(5)"
      ],
      "execution_count": 21,
      "outputs": [
        {
          "output_type": "execute_result",
          "data": {
            "text/html": [
              "<div>\n",
              "<style scoped>\n",
              "    .dataframe tbody tr th:only-of-type {\n",
              "        vertical-align: middle;\n",
              "    }\n",
              "\n",
              "    .dataframe tbody tr th {\n",
              "        vertical-align: top;\n",
              "    }\n",
              "\n",
              "    .dataframe thead th {\n",
              "        text-align: right;\n",
              "    }\n",
              "</style>\n",
              "<table border=\"1\" class=\"dataframe\">\n",
              "  <thead>\n",
              "    <tr style=\"text-align: right;\">\n",
              "      <th></th>\n",
              "      <th>MEMBER_ID</th>\n",
              "      <th>LOB</th>\n",
              "      <th>churned</th>\n",
              "      <th>Tenure</th>\n",
              "      <th>hadGap.</th>\n",
              "      <th>Age</th>\n",
              "      <th>SDOHScore</th>\n",
              "      <th>conditionScore</th>\n",
              "      <th>substanceScore</th>\n",
              "      <th>physFrailtyScore</th>\n",
              "      <th>mentalFrailtyScore</th>\n",
              "      <th>EDCost</th>\n",
              "      <th>EDCount</th>\n",
              "      <th>IPCost</th>\n",
              "      <th>IPCount</th>\n",
              "      <th>State</th>\n",
              "    </tr>\n",
              "  </thead>\n",
              "  <tbody>\n",
              "    <tr>\n",
              "      <th>0</th>\n",
              "      <td>7ea90bb64201ddaf463eb9419ad990d9</td>\n",
              "      <td>LOB2</td>\n",
              "      <td>0</td>\n",
              "      <td>49</td>\n",
              "      <td>0</td>\n",
              "      <td>59</td>\n",
              "      <td>0.018738</td>\n",
              "      <td>0.0</td>\n",
              "      <td>0.0</td>\n",
              "      <td>0.0</td>\n",
              "      <td>0.0</td>\n",
              "      <td>0.0</td>\n",
              "      <td>0.0</td>\n",
              "      <td>0.0</td>\n",
              "      <td>0.0</td>\n",
              "      <td>PA</td>\n",
              "    </tr>\n",
              "    <tr>\n",
              "      <th>1</th>\n",
              "      <td>6319ce06253302493c1fe5d57d57aba7</td>\n",
              "      <td>LOB1</td>\n",
              "      <td>0</td>\n",
              "      <td>49</td>\n",
              "      <td>0</td>\n",
              "      <td>80</td>\n",
              "      <td>0.012270</td>\n",
              "      <td>0.0</td>\n",
              "      <td>0.0</td>\n",
              "      <td>0.0</td>\n",
              "      <td>0.0</td>\n",
              "      <td>0.0</td>\n",
              "      <td>0.0</td>\n",
              "      <td>0.0</td>\n",
              "      <td>0.0</td>\n",
              "      <td>PA</td>\n",
              "    </tr>\n",
              "    <tr>\n",
              "      <th>2</th>\n",
              "      <td>e7c98ad14a283b1bb751dd73b76f1ef9</td>\n",
              "      <td>LOB1</td>\n",
              "      <td>0</td>\n",
              "      <td>49</td>\n",
              "      <td>0</td>\n",
              "      <td>45</td>\n",
              "      <td>0.000435</td>\n",
              "      <td>0.0</td>\n",
              "      <td>0.0</td>\n",
              "      <td>0.0</td>\n",
              "      <td>0.0</td>\n",
              "      <td>0.0</td>\n",
              "      <td>0.0</td>\n",
              "      <td>0.0</td>\n",
              "      <td>0.0</td>\n",
              "      <td>PA</td>\n",
              "    </tr>\n",
              "    <tr>\n",
              "      <th>3</th>\n",
              "      <td>6189fb5bf21454cb7c01f15cb1bb78ec</td>\n",
              "      <td>LOB4</td>\n",
              "      <td>0</td>\n",
              "      <td>49</td>\n",
              "      <td>0</td>\n",
              "      <td>25</td>\n",
              "      <td>0.033174</td>\n",
              "      <td>0.0</td>\n",
              "      <td>0.0</td>\n",
              "      <td>0.0</td>\n",
              "      <td>0.0</td>\n",
              "      <td>0.0</td>\n",
              "      <td>0.0</td>\n",
              "      <td>0.0</td>\n",
              "      <td>0.0</td>\n",
              "      <td>NC</td>\n",
              "    </tr>\n",
              "    <tr>\n",
              "      <th>4</th>\n",
              "      <td>8793004f217e16c695b043fa78b9c74b</td>\n",
              "      <td>LOB5</td>\n",
              "      <td>0</td>\n",
              "      <td>49</td>\n",
              "      <td>0</td>\n",
              "      <td>66</td>\n",
              "      <td>0.405166</td>\n",
              "      <td>0.0</td>\n",
              "      <td>0.0</td>\n",
              "      <td>0.0</td>\n",
              "      <td>0.0</td>\n",
              "      <td>0.0</td>\n",
              "      <td>0.0</td>\n",
              "      <td>0.0</td>\n",
              "      <td>0.0</td>\n",
              "      <td>OH</td>\n",
              "    </tr>\n",
              "  </tbody>\n",
              "</table>\n",
              "</div>"
            ],
            "text/plain": [
              "                          MEMBER_ID   LOB  churned  ...  IPCost  IPCount  State\n",
              "0  7ea90bb64201ddaf463eb9419ad990d9  LOB2        0  ...     0.0      0.0     PA\n",
              "1  6319ce06253302493c1fe5d57d57aba7  LOB1        0  ...     0.0      0.0     PA\n",
              "2  e7c98ad14a283b1bb751dd73b76f1ef9  LOB1        0  ...     0.0      0.0     PA\n",
              "3  6189fb5bf21454cb7c01f15cb1bb78ec  LOB4        0  ...     0.0      0.0     NC\n",
              "4  8793004f217e16c695b043fa78b9c74b  LOB5        0  ...     0.0      0.0     OH\n",
              "\n",
              "[5 rows x 16 columns]"
            ]
          },
          "metadata": {
            "tags": []
          },
          "execution_count": 21
        }
      ]
    },
    {
      "cell_type": "markdown",
      "metadata": {
        "id": "ZYPaihSOyhmi",
        "colab_type": "text"
      },
      "source": [
        "Visualization :\n",
        "Count of Churns in each state"
      ]
    },
    {
      "cell_type": "code",
      "metadata": {
        "id": "WmmXD_WF2AZ5",
        "colab_type": "code",
        "colab": {}
      },
      "source": [
        "states= df[df['churned']>0]"
      ],
      "execution_count": 22,
      "outputs": []
    },
    {
      "cell_type": "code",
      "metadata": {
        "id": "nq3Wqz0E2OCZ",
        "colab_type": "code",
        "colab": {
          "base_uri": "https://localhost:8080/",
          "height": 435
        },
        "outputId": "a49f3c4c-b848-44bd-dc3f-f4e6fa37c292"
      },
      "source": [
        "states"
      ],
      "execution_count": 23,
      "outputs": [
        {
          "output_type": "execute_result",
          "data": {
            "text/html": [
              "<div>\n",
              "<style scoped>\n",
              "    .dataframe tbody tr th:only-of-type {\n",
              "        vertical-align: middle;\n",
              "    }\n",
              "\n",
              "    .dataframe tbody tr th {\n",
              "        vertical-align: top;\n",
              "    }\n",
              "\n",
              "    .dataframe thead th {\n",
              "        text-align: right;\n",
              "    }\n",
              "</style>\n",
              "<table border=\"1\" class=\"dataframe\">\n",
              "  <thead>\n",
              "    <tr style=\"text-align: right;\">\n",
              "      <th></th>\n",
              "      <th>MEMBER_ID</th>\n",
              "      <th>LOB</th>\n",
              "      <th>churned</th>\n",
              "      <th>Tenure</th>\n",
              "      <th>hadGap.</th>\n",
              "      <th>Age</th>\n",
              "      <th>SDOHScore</th>\n",
              "      <th>conditionScore</th>\n",
              "      <th>substanceScore</th>\n",
              "      <th>physFrailtyScore</th>\n",
              "      <th>mentalFrailtyScore</th>\n",
              "      <th>EDCost</th>\n",
              "      <th>EDCount</th>\n",
              "      <th>IPCost</th>\n",
              "      <th>IPCount</th>\n",
              "      <th>State</th>\n",
              "    </tr>\n",
              "  </thead>\n",
              "  <tbody>\n",
              "    <tr>\n",
              "      <th>6</th>\n",
              "      <td>225c2be6cbe078fe20d12ea66b375bf8</td>\n",
              "      <td>LOB1</td>\n",
              "      <td>1</td>\n",
              "      <td>30</td>\n",
              "      <td>0</td>\n",
              "      <td>27</td>\n",
              "      <td>0.000003</td>\n",
              "      <td>0.00</td>\n",
              "      <td>0.0</td>\n",
              "      <td>0.000000</td>\n",
              "      <td>0.0</td>\n",
              "      <td>0.00</td>\n",
              "      <td>0.0</td>\n",
              "      <td>0.00</td>\n",
              "      <td>0.0</td>\n",
              "      <td>PA</td>\n",
              "    </tr>\n",
              "    <tr>\n",
              "      <th>14</th>\n",
              "      <td>19463dcc2d19329ca148879baf9416d3</td>\n",
              "      <td>LOB5</td>\n",
              "      <td>1</td>\n",
              "      <td>30</td>\n",
              "      <td>0</td>\n",
              "      <td>41</td>\n",
              "      <td>0.011908</td>\n",
              "      <td>0.00</td>\n",
              "      <td>0.0</td>\n",
              "      <td>0.000000</td>\n",
              "      <td>0.0</td>\n",
              "      <td>0.00</td>\n",
              "      <td>0.0</td>\n",
              "      <td>0.00</td>\n",
              "      <td>0.0</td>\n",
              "      <td>OH</td>\n",
              "    </tr>\n",
              "    <tr>\n",
              "      <th>21</th>\n",
              "      <td>f1f8cdb47a28ab33c51cfbf506e97ffc</td>\n",
              "      <td>LOB4</td>\n",
              "      <td>1</td>\n",
              "      <td>30</td>\n",
              "      <td>0</td>\n",
              "      <td>41</td>\n",
              "      <td>0.165626</td>\n",
              "      <td>0.00</td>\n",
              "      <td>0.0</td>\n",
              "      <td>0.000000</td>\n",
              "      <td>0.0</td>\n",
              "      <td>0.00</td>\n",
              "      <td>0.0</td>\n",
              "      <td>0.00</td>\n",
              "      <td>0.0</td>\n",
              "      <td>NC</td>\n",
              "    </tr>\n",
              "    <tr>\n",
              "      <th>62</th>\n",
              "      <td>e76c6488074d133c5878dccb780c2969</td>\n",
              "      <td>LOB1</td>\n",
              "      <td>1</td>\n",
              "      <td>30</td>\n",
              "      <td>0</td>\n",
              "      <td>45</td>\n",
              "      <td>0.134890</td>\n",
              "      <td>0.00</td>\n",
              "      <td>0.0</td>\n",
              "      <td>0.000000</td>\n",
              "      <td>0.0</td>\n",
              "      <td>0.00</td>\n",
              "      <td>0.0</td>\n",
              "      <td>0.00</td>\n",
              "      <td>0.0</td>\n",
              "      <td>PA</td>\n",
              "    </tr>\n",
              "    <tr>\n",
              "      <th>87</th>\n",
              "      <td>07746dc6951a76f405392db15c9fa92d</td>\n",
              "      <td>LOB4</td>\n",
              "      <td>1</td>\n",
              "      <td>30</td>\n",
              "      <td>0</td>\n",
              "      <td>75</td>\n",
              "      <td>1.078957</td>\n",
              "      <td>0.00</td>\n",
              "      <td>0.0</td>\n",
              "      <td>0.000000</td>\n",
              "      <td>0.0</td>\n",
              "      <td>0.00</td>\n",
              "      <td>0.0</td>\n",
              "      <td>0.00</td>\n",
              "      <td>0.0</td>\n",
              "      <td>NC</td>\n",
              "    </tr>\n",
              "    <tr>\n",
              "      <th>...</th>\n",
              "      <td>...</td>\n",
              "      <td>...</td>\n",
              "      <td>...</td>\n",
              "      <td>...</td>\n",
              "      <td>...</td>\n",
              "      <td>...</td>\n",
              "      <td>...</td>\n",
              "      <td>...</td>\n",
              "      <td>...</td>\n",
              "      <td>...</td>\n",
              "      <td>...</td>\n",
              "      <td>...</td>\n",
              "      <td>...</td>\n",
              "      <td>...</td>\n",
              "      <td>...</td>\n",
              "      <td>...</td>\n",
              "    </tr>\n",
              "    <tr>\n",
              "      <th>76979</th>\n",
              "      <td>51db0d65cf282e09bc2b7e204f241857</td>\n",
              "      <td>LOB1</td>\n",
              "      <td>1</td>\n",
              "      <td>3711</td>\n",
              "      <td>0</td>\n",
              "      <td>86</td>\n",
              "      <td>0.018118</td>\n",
              "      <td>0.20</td>\n",
              "      <td>0.0</td>\n",
              "      <td>0.111111</td>\n",
              "      <td>0.0</td>\n",
              "      <td>612.02</td>\n",
              "      <td>1.0</td>\n",
              "      <td>0.00</td>\n",
              "      <td>0.0</td>\n",
              "      <td>PA</td>\n",
              "    </tr>\n",
              "    <tr>\n",
              "      <th>76982</th>\n",
              "      <td>7d6655de83fba98f5a2536831538af6a</td>\n",
              "      <td>LOB1</td>\n",
              "      <td>1</td>\n",
              "      <td>14</td>\n",
              "      <td>0</td>\n",
              "      <td>100</td>\n",
              "      <td>0.007875</td>\n",
              "      <td>0.45</td>\n",
              "      <td>0.0</td>\n",
              "      <td>0.000000</td>\n",
              "      <td>0.0</td>\n",
              "      <td>1302.58</td>\n",
              "      <td>2.0</td>\n",
              "      <td>11217.79</td>\n",
              "      <td>1.0</td>\n",
              "      <td>PA</td>\n",
              "    </tr>\n",
              "    <tr>\n",
              "      <th>76986</th>\n",
              "      <td>3b510464105122b132fe0c9920473bbc</td>\n",
              "      <td>LOB1</td>\n",
              "      <td>1</td>\n",
              "      <td>3682</td>\n",
              "      <td>0</td>\n",
              "      <td>58</td>\n",
              "      <td>0.394652</td>\n",
              "      <td>0.20</td>\n",
              "      <td>0.0</td>\n",
              "      <td>0.000000</td>\n",
              "      <td>0.0</td>\n",
              "      <td>2260.36</td>\n",
              "      <td>5.0</td>\n",
              "      <td>4092.36</td>\n",
              "      <td>1.0</td>\n",
              "      <td>PA</td>\n",
              "    </tr>\n",
              "    <tr>\n",
              "      <th>76991</th>\n",
              "      <td>6c758a8b40551f58859ae4a13753ff35</td>\n",
              "      <td>LOB1</td>\n",
              "      <td>1</td>\n",
              "      <td>21</td>\n",
              "      <td>0</td>\n",
              "      <td>75</td>\n",
              "      <td>0.000470</td>\n",
              "      <td>0.15</td>\n",
              "      <td>0.0</td>\n",
              "      <td>0.111111</td>\n",
              "      <td>0.0</td>\n",
              "      <td>0.00</td>\n",
              "      <td>0.0</td>\n",
              "      <td>0.00</td>\n",
              "      <td>0.0</td>\n",
              "      <td>PA</td>\n",
              "    </tr>\n",
              "    <tr>\n",
              "      <th>76993</th>\n",
              "      <td>87b2ee8c4461df5ac5f75efab9b09916</td>\n",
              "      <td>LOB2</td>\n",
              "      <td>1</td>\n",
              "      <td>91</td>\n",
              "      <td>0</td>\n",
              "      <td>70</td>\n",
              "      <td>0.001333</td>\n",
              "      <td>0.35</td>\n",
              "      <td>0.0</td>\n",
              "      <td>0.000000</td>\n",
              "      <td>0.5</td>\n",
              "      <td>1326.07</td>\n",
              "      <td>1.0</td>\n",
              "      <td>7749.26</td>\n",
              "      <td>1.0</td>\n",
              "      <td>PA</td>\n",
              "    </tr>\n",
              "  </tbody>\n",
              "</table>\n",
              "<p>25206 rows × 16 columns</p>\n",
              "</div>"
            ],
            "text/plain": [
              "                              MEMBER_ID   LOB  churned  ...    IPCost  IPCount  State\n",
              "6      225c2be6cbe078fe20d12ea66b375bf8  LOB1        1  ...      0.00      0.0     PA\n",
              "14     19463dcc2d19329ca148879baf9416d3  LOB5        1  ...      0.00      0.0     OH\n",
              "21     f1f8cdb47a28ab33c51cfbf506e97ffc  LOB4        1  ...      0.00      0.0     NC\n",
              "62     e76c6488074d133c5878dccb780c2969  LOB1        1  ...      0.00      0.0     PA\n",
              "87     07746dc6951a76f405392db15c9fa92d  LOB4        1  ...      0.00      0.0     NC\n",
              "...                                 ...   ...      ...  ...       ...      ...    ...\n",
              "76979  51db0d65cf282e09bc2b7e204f241857  LOB1        1  ...      0.00      0.0     PA\n",
              "76982  7d6655de83fba98f5a2536831538af6a  LOB1        1  ...  11217.79      1.0     PA\n",
              "76986  3b510464105122b132fe0c9920473bbc  LOB1        1  ...   4092.36      1.0     PA\n",
              "76991  6c758a8b40551f58859ae4a13753ff35  LOB1        1  ...      0.00      0.0     PA\n",
              "76993  87b2ee8c4461df5ac5f75efab9b09916  LOB2        1  ...   7749.26      1.0     PA\n",
              "\n",
              "[25206 rows x 16 columns]"
            ]
          },
          "metadata": {
            "tags": []
          },
          "execution_count": 23
        }
      ]
    },
    {
      "cell_type": "code",
      "metadata": {
        "id": "tUKzLemHmceK",
        "colab_type": "code",
        "colab": {
          "base_uri": "https://localhost:8080/",
          "height": 415
        },
        "outputId": "49f65fb0-260e-433a-9761-472187e66893"
      },
      "source": [
        "visualization = df[['churned','State']]\n",
        "visualization"
      ],
      "execution_count": 24,
      "outputs": [
        {
          "output_type": "execute_result",
          "data": {
            "text/html": [
              "<div>\n",
              "<style scoped>\n",
              "    .dataframe tbody tr th:only-of-type {\n",
              "        vertical-align: middle;\n",
              "    }\n",
              "\n",
              "    .dataframe tbody tr th {\n",
              "        vertical-align: top;\n",
              "    }\n",
              "\n",
              "    .dataframe thead th {\n",
              "        text-align: right;\n",
              "    }\n",
              "</style>\n",
              "<table border=\"1\" class=\"dataframe\">\n",
              "  <thead>\n",
              "    <tr style=\"text-align: right;\">\n",
              "      <th></th>\n",
              "      <th>churned</th>\n",
              "      <th>State</th>\n",
              "    </tr>\n",
              "  </thead>\n",
              "  <tbody>\n",
              "    <tr>\n",
              "      <th>0</th>\n",
              "      <td>0</td>\n",
              "      <td>PA</td>\n",
              "    </tr>\n",
              "    <tr>\n",
              "      <th>1</th>\n",
              "      <td>0</td>\n",
              "      <td>PA</td>\n",
              "    </tr>\n",
              "    <tr>\n",
              "      <th>2</th>\n",
              "      <td>0</td>\n",
              "      <td>PA</td>\n",
              "    </tr>\n",
              "    <tr>\n",
              "      <th>3</th>\n",
              "      <td>0</td>\n",
              "      <td>NC</td>\n",
              "    </tr>\n",
              "    <tr>\n",
              "      <th>4</th>\n",
              "      <td>0</td>\n",
              "      <td>OH</td>\n",
              "    </tr>\n",
              "    <tr>\n",
              "      <th>...</th>\n",
              "      <td>...</td>\n",
              "      <td>...</td>\n",
              "    </tr>\n",
              "    <tr>\n",
              "      <th>76990</th>\n",
              "      <td>0</td>\n",
              "      <td>PA</td>\n",
              "    </tr>\n",
              "    <tr>\n",
              "      <th>76991</th>\n",
              "      <td>1</td>\n",
              "      <td>PA</td>\n",
              "    </tr>\n",
              "    <tr>\n",
              "      <th>76992</th>\n",
              "      <td>0</td>\n",
              "      <td>PA</td>\n",
              "    </tr>\n",
              "    <tr>\n",
              "      <th>76993</th>\n",
              "      <td>1</td>\n",
              "      <td>PA</td>\n",
              "    </tr>\n",
              "    <tr>\n",
              "      <th>76994</th>\n",
              "      <td>0</td>\n",
              "      <td>PA</td>\n",
              "    </tr>\n",
              "  </tbody>\n",
              "</table>\n",
              "<p>76995 rows × 2 columns</p>\n",
              "</div>"
            ],
            "text/plain": [
              "       churned State\n",
              "0            0    PA\n",
              "1            0    PA\n",
              "2            0    PA\n",
              "3            0    NC\n",
              "4            0    OH\n",
              "...        ...   ...\n",
              "76990        0    PA\n",
              "76991        1    PA\n",
              "76992        0    PA\n",
              "76993        1    PA\n",
              "76994        0    PA\n",
              "\n",
              "[76995 rows x 2 columns]"
            ]
          },
          "metadata": {
            "tags": []
          },
          "execution_count": 24
        }
      ]
    },
    {
      "cell_type": "code",
      "metadata": {
        "id": "cNIq5F_7pfkH",
        "colab_type": "code",
        "colab": {
          "base_uri": "https://localhost:8080/",
          "height": 35
        },
        "outputId": "36143c42-cf6e-43e2-fbab-ff21be1ca287"
      },
      "source": [
        "st=visualization.groupby('State').count()[['churned']]\n",
        "st.columns"
      ],
      "execution_count": 25,
      "outputs": [
        {
          "output_type": "execute_result",
          "data": {
            "text/plain": [
              "Index(['churned'], dtype='object')"
            ]
          },
          "metadata": {
            "tags": []
          },
          "execution_count": 25
        }
      ]
    },
    {
      "cell_type": "markdown",
      "metadata": {
        "id": "vRrq1qDd6lMB",
        "colab_type": "text"
      },
      "source": [
        "**Encoding categorical variables **"
      ]
    },
    {
      "cell_type": "code",
      "metadata": {
        "id": "svWV9G9JAJaz",
        "colab_type": "code",
        "colab": {}
      },
      "source": [
        "from sklearn.preprocessing import LabelEncoder\n",
        "from sklearn import preprocessing "
      ],
      "execution_count": 26,
      "outputs": []
    },
    {
      "cell_type": "code",
      "metadata": {
        "id": "8UBSndjsB4Ea",
        "colab_type": "code",
        "colab": {}
      },
      "source": [
        "# creating instance of labelencoder\n",
        "labelencoder = LabelEncoder()"
      ],
      "execution_count": 27,
      "outputs": []
    },
    {
      "cell_type": "code",
      "metadata": {
        "id": "DiiX8y7AE-vL",
        "colab_type": "code",
        "colab": {
          "base_uri": "https://localhost:8080/",
          "height": 435
        },
        "outputId": "fe91050f-7ee3-493d-feb6-e8e947a6a0b9"
      },
      "source": [
        "label_encoder = preprocessing.LabelEncoder()\n",
        "df['LOB']= label_encoder.fit_transform(df['LOB']) \n",
        "df['State']= label_encoder.fit_transform(df['State']) \n",
        "df"
      ],
      "execution_count": 28,
      "outputs": [
        {
          "output_type": "execute_result",
          "data": {
            "text/html": [
              "<div>\n",
              "<style scoped>\n",
              "    .dataframe tbody tr th:only-of-type {\n",
              "        vertical-align: middle;\n",
              "    }\n",
              "\n",
              "    .dataframe tbody tr th {\n",
              "        vertical-align: top;\n",
              "    }\n",
              "\n",
              "    .dataframe thead th {\n",
              "        text-align: right;\n",
              "    }\n",
              "</style>\n",
              "<table border=\"1\" class=\"dataframe\">\n",
              "  <thead>\n",
              "    <tr style=\"text-align: right;\">\n",
              "      <th></th>\n",
              "      <th>MEMBER_ID</th>\n",
              "      <th>LOB</th>\n",
              "      <th>churned</th>\n",
              "      <th>Tenure</th>\n",
              "      <th>hadGap.</th>\n",
              "      <th>Age</th>\n",
              "      <th>SDOHScore</th>\n",
              "      <th>conditionScore</th>\n",
              "      <th>substanceScore</th>\n",
              "      <th>physFrailtyScore</th>\n",
              "      <th>mentalFrailtyScore</th>\n",
              "      <th>EDCost</th>\n",
              "      <th>EDCount</th>\n",
              "      <th>IPCost</th>\n",
              "      <th>IPCount</th>\n",
              "      <th>State</th>\n",
              "    </tr>\n",
              "  </thead>\n",
              "  <tbody>\n",
              "    <tr>\n",
              "      <th>0</th>\n",
              "      <td>7ea90bb64201ddaf463eb9419ad990d9</td>\n",
              "      <td>1</td>\n",
              "      <td>0</td>\n",
              "      <td>49</td>\n",
              "      <td>0</td>\n",
              "      <td>59</td>\n",
              "      <td>0.018738</td>\n",
              "      <td>0.00</td>\n",
              "      <td>0.0</td>\n",
              "      <td>0.000000</td>\n",
              "      <td>0.0</td>\n",
              "      <td>0.00</td>\n",
              "      <td>0.0</td>\n",
              "      <td>0.00</td>\n",
              "      <td>0.0</td>\n",
              "      <td>3</td>\n",
              "    </tr>\n",
              "    <tr>\n",
              "      <th>1</th>\n",
              "      <td>6319ce06253302493c1fe5d57d57aba7</td>\n",
              "      <td>0</td>\n",
              "      <td>0</td>\n",
              "      <td>49</td>\n",
              "      <td>0</td>\n",
              "      <td>80</td>\n",
              "      <td>0.012270</td>\n",
              "      <td>0.00</td>\n",
              "      <td>0.0</td>\n",
              "      <td>0.000000</td>\n",
              "      <td>0.0</td>\n",
              "      <td>0.00</td>\n",
              "      <td>0.0</td>\n",
              "      <td>0.00</td>\n",
              "      <td>0.0</td>\n",
              "      <td>3</td>\n",
              "    </tr>\n",
              "    <tr>\n",
              "      <th>2</th>\n",
              "      <td>e7c98ad14a283b1bb751dd73b76f1ef9</td>\n",
              "      <td>0</td>\n",
              "      <td>0</td>\n",
              "      <td>49</td>\n",
              "      <td>0</td>\n",
              "      <td>45</td>\n",
              "      <td>0.000435</td>\n",
              "      <td>0.00</td>\n",
              "      <td>0.0</td>\n",
              "      <td>0.000000</td>\n",
              "      <td>0.0</td>\n",
              "      <td>0.00</td>\n",
              "      <td>0.0</td>\n",
              "      <td>0.00</td>\n",
              "      <td>0.0</td>\n",
              "      <td>3</td>\n",
              "    </tr>\n",
              "    <tr>\n",
              "      <th>3</th>\n",
              "      <td>6189fb5bf21454cb7c01f15cb1bb78ec</td>\n",
              "      <td>3</td>\n",
              "      <td>0</td>\n",
              "      <td>49</td>\n",
              "      <td>0</td>\n",
              "      <td>25</td>\n",
              "      <td>0.033174</td>\n",
              "      <td>0.00</td>\n",
              "      <td>0.0</td>\n",
              "      <td>0.000000</td>\n",
              "      <td>0.0</td>\n",
              "      <td>0.00</td>\n",
              "      <td>0.0</td>\n",
              "      <td>0.00</td>\n",
              "      <td>0.0</td>\n",
              "      <td>1</td>\n",
              "    </tr>\n",
              "    <tr>\n",
              "      <th>4</th>\n",
              "      <td>8793004f217e16c695b043fa78b9c74b</td>\n",
              "      <td>4</td>\n",
              "      <td>0</td>\n",
              "      <td>49</td>\n",
              "      <td>0</td>\n",
              "      <td>66</td>\n",
              "      <td>0.405166</td>\n",
              "      <td>0.00</td>\n",
              "      <td>0.0</td>\n",
              "      <td>0.000000</td>\n",
              "      <td>0.0</td>\n",
              "      <td>0.00</td>\n",
              "      <td>0.0</td>\n",
              "      <td>0.00</td>\n",
              "      <td>0.0</td>\n",
              "      <td>2</td>\n",
              "    </tr>\n",
              "    <tr>\n",
              "      <th>...</th>\n",
              "      <td>...</td>\n",
              "      <td>...</td>\n",
              "      <td>...</td>\n",
              "      <td>...</td>\n",
              "      <td>...</td>\n",
              "      <td>...</td>\n",
              "      <td>...</td>\n",
              "      <td>...</td>\n",
              "      <td>...</td>\n",
              "      <td>...</td>\n",
              "      <td>...</td>\n",
              "      <td>...</td>\n",
              "      <td>...</td>\n",
              "      <td>...</td>\n",
              "      <td>...</td>\n",
              "      <td>...</td>\n",
              "    </tr>\n",
              "    <tr>\n",
              "      <th>76990</th>\n",
              "      <td>961d9e7363a1e93ef1876c84902a8814</td>\n",
              "      <td>0</td>\n",
              "      <td>0</td>\n",
              "      <td>4552</td>\n",
              "      <td>0</td>\n",
              "      <td>38</td>\n",
              "      <td>0.364924</td>\n",
              "      <td>0.10</td>\n",
              "      <td>0.0</td>\n",
              "      <td>0.000000</td>\n",
              "      <td>0.0</td>\n",
              "      <td>0.00</td>\n",
              "      <td>0.0</td>\n",
              "      <td>0.00</td>\n",
              "      <td>0.0</td>\n",
              "      <td>3</td>\n",
              "    </tr>\n",
              "    <tr>\n",
              "      <th>76991</th>\n",
              "      <td>6c758a8b40551f58859ae4a13753ff35</td>\n",
              "      <td>0</td>\n",
              "      <td>1</td>\n",
              "      <td>21</td>\n",
              "      <td>0</td>\n",
              "      <td>75</td>\n",
              "      <td>0.000470</td>\n",
              "      <td>0.15</td>\n",
              "      <td>0.0</td>\n",
              "      <td>0.111111</td>\n",
              "      <td>0.0</td>\n",
              "      <td>0.00</td>\n",
              "      <td>0.0</td>\n",
              "      <td>0.00</td>\n",
              "      <td>0.0</td>\n",
              "      <td>3</td>\n",
              "    </tr>\n",
              "    <tr>\n",
              "      <th>76992</th>\n",
              "      <td>4c293edf31e79b408e231651a3b1448f</td>\n",
              "      <td>0</td>\n",
              "      <td>0</td>\n",
              "      <td>2087</td>\n",
              "      <td>1</td>\n",
              "      <td>51</td>\n",
              "      <td>0.001049</td>\n",
              "      <td>0.00</td>\n",
              "      <td>0.0</td>\n",
              "      <td>0.000000</td>\n",
              "      <td>0.0</td>\n",
              "      <td>0.00</td>\n",
              "      <td>1.0</td>\n",
              "      <td>0.00</td>\n",
              "      <td>0.0</td>\n",
              "      <td>3</td>\n",
              "    </tr>\n",
              "    <tr>\n",
              "      <th>76993</th>\n",
              "      <td>87b2ee8c4461df5ac5f75efab9b09916</td>\n",
              "      <td>1</td>\n",
              "      <td>1</td>\n",
              "      <td>91</td>\n",
              "      <td>0</td>\n",
              "      <td>70</td>\n",
              "      <td>0.001333</td>\n",
              "      <td>0.35</td>\n",
              "      <td>0.0</td>\n",
              "      <td>0.000000</td>\n",
              "      <td>0.5</td>\n",
              "      <td>1326.07</td>\n",
              "      <td>1.0</td>\n",
              "      <td>7749.26</td>\n",
              "      <td>1.0</td>\n",
              "      <td>3</td>\n",
              "    </tr>\n",
              "    <tr>\n",
              "      <th>76994</th>\n",
              "      <td>e125a0255398f478c3d5e2e5ab09d0b8</td>\n",
              "      <td>0</td>\n",
              "      <td>0</td>\n",
              "      <td>4552</td>\n",
              "      <td>0</td>\n",
              "      <td>45</td>\n",
              "      <td>0.013788</td>\n",
              "      <td>0.00</td>\n",
              "      <td>0.0</td>\n",
              "      <td>0.111111</td>\n",
              "      <td>0.0</td>\n",
              "      <td>505.13</td>\n",
              "      <td>2.0</td>\n",
              "      <td>0.00</td>\n",
              "      <td>0.0</td>\n",
              "      <td>3</td>\n",
              "    </tr>\n",
              "  </tbody>\n",
              "</table>\n",
              "<p>76995 rows × 16 columns</p>\n",
              "</div>"
            ],
            "text/plain": [
              "                              MEMBER_ID  LOB  churned  ...   IPCost  IPCount  State\n",
              "0      7ea90bb64201ddaf463eb9419ad990d9    1        0  ...     0.00      0.0      3\n",
              "1      6319ce06253302493c1fe5d57d57aba7    0        0  ...     0.00      0.0      3\n",
              "2      e7c98ad14a283b1bb751dd73b76f1ef9    0        0  ...     0.00      0.0      3\n",
              "3      6189fb5bf21454cb7c01f15cb1bb78ec    3        0  ...     0.00      0.0      1\n",
              "4      8793004f217e16c695b043fa78b9c74b    4        0  ...     0.00      0.0      2\n",
              "...                                 ...  ...      ...  ...      ...      ...    ...\n",
              "76990  961d9e7363a1e93ef1876c84902a8814    0        0  ...     0.00      0.0      3\n",
              "76991  6c758a8b40551f58859ae4a13753ff35    0        1  ...     0.00      0.0      3\n",
              "76992  4c293edf31e79b408e231651a3b1448f    0        0  ...     0.00      0.0      3\n",
              "76993  87b2ee8c4461df5ac5f75efab9b09916    1        1  ...  7749.26      1.0      3\n",
              "76994  e125a0255398f478c3d5e2e5ab09d0b8    0        0  ...     0.00      0.0      3\n",
              "\n",
              "[76995 rows x 16 columns]"
            ]
          },
          "metadata": {
            "tags": []
          },
          "execution_count": 28
        }
      ]
    },
    {
      "cell_type": "code",
      "metadata": {
        "id": "tFrNjRZTJVUE",
        "colab_type": "code",
        "colab": {}
      },
      "source": [
        "df=df.drop(['MEMBER_ID'], axis=1)"
      ],
      "execution_count": 29,
      "outputs": []
    },
    {
      "cell_type": "code",
      "metadata": {
        "id": "QrtO4RzXIJb-",
        "colab_type": "code",
        "colab": {
          "base_uri": "https://localhost:8080/",
          "height": 435
        },
        "outputId": "3a0721d7-2821-439f-a2fb-529128234844"
      },
      "source": [
        "df"
      ],
      "execution_count": 30,
      "outputs": [
        {
          "output_type": "execute_result",
          "data": {
            "text/html": [
              "<div>\n",
              "<style scoped>\n",
              "    .dataframe tbody tr th:only-of-type {\n",
              "        vertical-align: middle;\n",
              "    }\n",
              "\n",
              "    .dataframe tbody tr th {\n",
              "        vertical-align: top;\n",
              "    }\n",
              "\n",
              "    .dataframe thead th {\n",
              "        text-align: right;\n",
              "    }\n",
              "</style>\n",
              "<table border=\"1\" class=\"dataframe\">\n",
              "  <thead>\n",
              "    <tr style=\"text-align: right;\">\n",
              "      <th></th>\n",
              "      <th>LOB</th>\n",
              "      <th>churned</th>\n",
              "      <th>Tenure</th>\n",
              "      <th>hadGap.</th>\n",
              "      <th>Age</th>\n",
              "      <th>SDOHScore</th>\n",
              "      <th>conditionScore</th>\n",
              "      <th>substanceScore</th>\n",
              "      <th>physFrailtyScore</th>\n",
              "      <th>mentalFrailtyScore</th>\n",
              "      <th>EDCost</th>\n",
              "      <th>EDCount</th>\n",
              "      <th>IPCost</th>\n",
              "      <th>IPCount</th>\n",
              "      <th>State</th>\n",
              "    </tr>\n",
              "  </thead>\n",
              "  <tbody>\n",
              "    <tr>\n",
              "      <th>0</th>\n",
              "      <td>1</td>\n",
              "      <td>0</td>\n",
              "      <td>49</td>\n",
              "      <td>0</td>\n",
              "      <td>59</td>\n",
              "      <td>0.018738</td>\n",
              "      <td>0.00</td>\n",
              "      <td>0.0</td>\n",
              "      <td>0.000000</td>\n",
              "      <td>0.0</td>\n",
              "      <td>0.00</td>\n",
              "      <td>0.0</td>\n",
              "      <td>0.00</td>\n",
              "      <td>0.0</td>\n",
              "      <td>3</td>\n",
              "    </tr>\n",
              "    <tr>\n",
              "      <th>1</th>\n",
              "      <td>0</td>\n",
              "      <td>0</td>\n",
              "      <td>49</td>\n",
              "      <td>0</td>\n",
              "      <td>80</td>\n",
              "      <td>0.012270</td>\n",
              "      <td>0.00</td>\n",
              "      <td>0.0</td>\n",
              "      <td>0.000000</td>\n",
              "      <td>0.0</td>\n",
              "      <td>0.00</td>\n",
              "      <td>0.0</td>\n",
              "      <td>0.00</td>\n",
              "      <td>0.0</td>\n",
              "      <td>3</td>\n",
              "    </tr>\n",
              "    <tr>\n",
              "      <th>2</th>\n",
              "      <td>0</td>\n",
              "      <td>0</td>\n",
              "      <td>49</td>\n",
              "      <td>0</td>\n",
              "      <td>45</td>\n",
              "      <td>0.000435</td>\n",
              "      <td>0.00</td>\n",
              "      <td>0.0</td>\n",
              "      <td>0.000000</td>\n",
              "      <td>0.0</td>\n",
              "      <td>0.00</td>\n",
              "      <td>0.0</td>\n",
              "      <td>0.00</td>\n",
              "      <td>0.0</td>\n",
              "      <td>3</td>\n",
              "    </tr>\n",
              "    <tr>\n",
              "      <th>3</th>\n",
              "      <td>3</td>\n",
              "      <td>0</td>\n",
              "      <td>49</td>\n",
              "      <td>0</td>\n",
              "      <td>25</td>\n",
              "      <td>0.033174</td>\n",
              "      <td>0.00</td>\n",
              "      <td>0.0</td>\n",
              "      <td>0.000000</td>\n",
              "      <td>0.0</td>\n",
              "      <td>0.00</td>\n",
              "      <td>0.0</td>\n",
              "      <td>0.00</td>\n",
              "      <td>0.0</td>\n",
              "      <td>1</td>\n",
              "    </tr>\n",
              "    <tr>\n",
              "      <th>4</th>\n",
              "      <td>4</td>\n",
              "      <td>0</td>\n",
              "      <td>49</td>\n",
              "      <td>0</td>\n",
              "      <td>66</td>\n",
              "      <td>0.405166</td>\n",
              "      <td>0.00</td>\n",
              "      <td>0.0</td>\n",
              "      <td>0.000000</td>\n",
              "      <td>0.0</td>\n",
              "      <td>0.00</td>\n",
              "      <td>0.0</td>\n",
              "      <td>0.00</td>\n",
              "      <td>0.0</td>\n",
              "      <td>2</td>\n",
              "    </tr>\n",
              "    <tr>\n",
              "      <th>...</th>\n",
              "      <td>...</td>\n",
              "      <td>...</td>\n",
              "      <td>...</td>\n",
              "      <td>...</td>\n",
              "      <td>...</td>\n",
              "      <td>...</td>\n",
              "      <td>...</td>\n",
              "      <td>...</td>\n",
              "      <td>...</td>\n",
              "      <td>...</td>\n",
              "      <td>...</td>\n",
              "      <td>...</td>\n",
              "      <td>...</td>\n",
              "      <td>...</td>\n",
              "      <td>...</td>\n",
              "    </tr>\n",
              "    <tr>\n",
              "      <th>76990</th>\n",
              "      <td>0</td>\n",
              "      <td>0</td>\n",
              "      <td>4552</td>\n",
              "      <td>0</td>\n",
              "      <td>38</td>\n",
              "      <td>0.364924</td>\n",
              "      <td>0.10</td>\n",
              "      <td>0.0</td>\n",
              "      <td>0.000000</td>\n",
              "      <td>0.0</td>\n",
              "      <td>0.00</td>\n",
              "      <td>0.0</td>\n",
              "      <td>0.00</td>\n",
              "      <td>0.0</td>\n",
              "      <td>3</td>\n",
              "    </tr>\n",
              "    <tr>\n",
              "      <th>76991</th>\n",
              "      <td>0</td>\n",
              "      <td>1</td>\n",
              "      <td>21</td>\n",
              "      <td>0</td>\n",
              "      <td>75</td>\n",
              "      <td>0.000470</td>\n",
              "      <td>0.15</td>\n",
              "      <td>0.0</td>\n",
              "      <td>0.111111</td>\n",
              "      <td>0.0</td>\n",
              "      <td>0.00</td>\n",
              "      <td>0.0</td>\n",
              "      <td>0.00</td>\n",
              "      <td>0.0</td>\n",
              "      <td>3</td>\n",
              "    </tr>\n",
              "    <tr>\n",
              "      <th>76992</th>\n",
              "      <td>0</td>\n",
              "      <td>0</td>\n",
              "      <td>2087</td>\n",
              "      <td>1</td>\n",
              "      <td>51</td>\n",
              "      <td>0.001049</td>\n",
              "      <td>0.00</td>\n",
              "      <td>0.0</td>\n",
              "      <td>0.000000</td>\n",
              "      <td>0.0</td>\n",
              "      <td>0.00</td>\n",
              "      <td>1.0</td>\n",
              "      <td>0.00</td>\n",
              "      <td>0.0</td>\n",
              "      <td>3</td>\n",
              "    </tr>\n",
              "    <tr>\n",
              "      <th>76993</th>\n",
              "      <td>1</td>\n",
              "      <td>1</td>\n",
              "      <td>91</td>\n",
              "      <td>0</td>\n",
              "      <td>70</td>\n",
              "      <td>0.001333</td>\n",
              "      <td>0.35</td>\n",
              "      <td>0.0</td>\n",
              "      <td>0.000000</td>\n",
              "      <td>0.5</td>\n",
              "      <td>1326.07</td>\n",
              "      <td>1.0</td>\n",
              "      <td>7749.26</td>\n",
              "      <td>1.0</td>\n",
              "      <td>3</td>\n",
              "    </tr>\n",
              "    <tr>\n",
              "      <th>76994</th>\n",
              "      <td>0</td>\n",
              "      <td>0</td>\n",
              "      <td>4552</td>\n",
              "      <td>0</td>\n",
              "      <td>45</td>\n",
              "      <td>0.013788</td>\n",
              "      <td>0.00</td>\n",
              "      <td>0.0</td>\n",
              "      <td>0.111111</td>\n",
              "      <td>0.0</td>\n",
              "      <td>505.13</td>\n",
              "      <td>2.0</td>\n",
              "      <td>0.00</td>\n",
              "      <td>0.0</td>\n",
              "      <td>3</td>\n",
              "    </tr>\n",
              "  </tbody>\n",
              "</table>\n",
              "<p>76995 rows × 15 columns</p>\n",
              "</div>"
            ],
            "text/plain": [
              "       LOB  churned  Tenure  hadGap.  ...  EDCount   IPCost  IPCount  State\n",
              "0        1        0      49        0  ...      0.0     0.00      0.0      3\n",
              "1        0        0      49        0  ...      0.0     0.00      0.0      3\n",
              "2        0        0      49        0  ...      0.0     0.00      0.0      3\n",
              "3        3        0      49        0  ...      0.0     0.00      0.0      1\n",
              "4        4        0      49        0  ...      0.0     0.00      0.0      2\n",
              "...    ...      ...     ...      ...  ...      ...      ...      ...    ...\n",
              "76990    0        0    4552        0  ...      0.0     0.00      0.0      3\n",
              "76991    0        1      21        0  ...      0.0     0.00      0.0      3\n",
              "76992    0        0    2087        1  ...      1.0     0.00      0.0      3\n",
              "76993    1        1      91        0  ...      1.0  7749.26      1.0      3\n",
              "76994    0        0    4552        0  ...      2.0     0.00      0.0      3\n",
              "\n",
              "[76995 rows x 15 columns]"
            ]
          },
          "metadata": {
            "tags": []
          },
          "execution_count": 30
        }
      ]
    },
    {
      "cell_type": "markdown",
      "metadata": {
        "id": "tF79bgmFj4u8",
        "colab_type": "text"
      },
      "source": [
        "**Visualization for analysis**"
      ]
    },
    {
      "cell_type": "markdown",
      "metadata": {
        "id": "W5iZDfYcmdOi",
        "colab_type": "text"
      },
      "source": [
        "Calculating the count of churns in each and every state"
      ]
    },
    {
      "cell_type": "code",
      "metadata": {
        "id": "KJxdg27ej3mW",
        "colab_type": "code",
        "colab": {}
      },
      "source": [
        ""
      ],
      "execution_count": 30,
      "outputs": []
    },
    {
      "cell_type": "markdown",
      "metadata": {
        "id": "PJrBruYOkffQ",
        "colab_type": "text"
      },
      "source": [
        "**Risk score prediction**"
      ]
    },
    {
      "cell_type": "code",
      "metadata": {
        "id": "Xid6BcDeJ7N2",
        "colab_type": "code",
        "colab": {}
      },
      "source": [
        "from sklearn.feature_selection import SelectFromModel\n",
        "from sklearn.model_selection import train_test_split\n",
        "from sklearn.linear_model import LogisticRegression\n",
        "from sklearn.metrics import accuracy_score\n",
        "from sklearn.ensemble import RandomForestClassifier\n",
        "from sklearn.neural_network import MLPClassifier\n",
        "from sklearn.ensemble import RandomForestRegressor\n"
      ],
      "execution_count": 32,
      "outputs": []
    },
    {
      "cell_type": "code",
      "metadata": {
        "id": "kqKdQubGLMHb",
        "colab_type": "code",
        "colab": {}
      },
      "source": [
        "\n",
        "y = df['churned']\n",
        "X=df.drop(['churned'], axis=1)"
      ],
      "execution_count": 33,
      "outputs": []
    },
    {
      "cell_type": "code",
      "metadata": {
        "id": "d3wB6iYDMRof",
        "colab_type": "code",
        "colab": {}
      },
      "source": [
        "X_train, X_test, y_train, y_test = train_test_split(\n",
        "...     X, y, test_size=0.33, random_state=42)"
      ],
      "execution_count": 34,
      "outputs": []
    },
    {
      "cell_type": "code",
      "metadata": {
        "id": "HCZRnPdmPn7i",
        "colab_type": "code",
        "colab": {
          "base_uri": "https://localhost:8080/",
          "height": 35
        },
        "outputId": "7bcbde74-0046-487b-de97-9142a5321ced"
      },
      "source": [
        "log_regression=LogisticRegression(multi_class=\"auto\",solver=\"lbfgs\",C=1.0,max_iter=100,random_state=42)\n",
        "log_regression.fit(X_train,y_train)\n",
        "pred_log=log_regression.predict(X_test)\n",
        "acc_score=accuracy_score(y_test,pred_log)\n",
        "print(acc_score)"
      ],
      "execution_count": 35,
      "outputs": [
        {
          "output_type": "stream",
          "text": [
            "0.7293478688653626\n"
          ],
          "name": "stdout"
        }
      ]
    },
    {
      "cell_type": "code",
      "metadata": {
        "id": "OAK40mbSgfNK",
        "colab_type": "code",
        "colab": {
          "base_uri": "https://localhost:8080/",
          "height": 211
        },
        "outputId": "6148b342-ae06-42ff-c7d2-377408e2f5cf"
      },
      "source": [
        "from sklearn.model_selection import cross_val_score\n",
        "\n",
        "scores = cross_val_score(log_regression, X_train, y_train, cv=10)\n",
        "print('Cross-Validation Accuracy Scores', scores)"
      ],
      "execution_count": 36,
      "outputs": [
        {
          "output_type": "stream",
          "text": [
            "/usr/local/lib/python3.6/dist-packages/sklearn/linear_model/_logistic.py:940: ConvergenceWarning: lbfgs failed to converge (status=1):\n",
            "STOP: TOTAL NO. of ITERATIONS REACHED LIMIT.\n",
            "\n",
            "Increase the number of iterations (max_iter) or scale the data as shown in:\n",
            "    https://scikit-learn.org/stable/modules/preprocessing.html\n",
            "Please also refer to the documentation for alternative solver options:\n",
            "    https://scikit-learn.org/stable/modules/linear_model.html#logistic-regression\n",
            "  extra_warning_msg=_LOGISTIC_SOLVER_CONVERGENCE_MSG)\n"
          ],
          "name": "stderr"
        },
        {
          "output_type": "stream",
          "text": [
            "Cross-Validation Accuracy Scores [0.71040899 0.73289397 0.72901725 0.72126381 0.71467339 0.71893778\n",
            " 0.72004653 0.72586274 0.73090345 0.71985266]\n"
          ],
          "name": "stdout"
        }
      ]
    },
    {
      "cell_type": "code",
      "metadata": {
        "id": "0oeEvsalWOVz",
        "colab_type": "code",
        "colab": {
          "base_uri": "https://localhost:8080/",
          "height": 1000
        },
        "outputId": "66a19119-d893-49b7-bef1-2d880bc38370"
      },
      "source": [
        "nn_classifier=MLPClassifier(hidden_layer_sizes=(50,2),max_iter=100,verbose=True,solver='adam',n_iter_no_change=10,activation='identity')\n",
        "nn_classifier.fit(X_train,y_train)\n",
        "pred_random=nn_classifier.predict(X_test)\n",
        "acc_score=accuracy_score(y_test,pred_random)\n",
        "print(acc_score)"
      ],
      "execution_count": 37,
      "outputs": [
        {
          "output_type": "stream",
          "text": [
            "Iteration 1, loss = inf\n",
            "Iteration 2, loss = inf\n",
            "Iteration 3, loss = inf\n",
            "Iteration 4, loss = inf\n",
            "Iteration 5, loss = inf\n",
            "Iteration 6, loss = inf\n",
            "Iteration 7, loss = inf\n",
            "Iteration 8, loss = inf\n",
            "Iteration 9, loss = inf\n",
            "Iteration 10, loss = inf\n",
            "Iteration 11, loss = inf\n",
            "Iteration 12, loss = inf\n",
            "Iteration 13, loss = inf\n",
            "Iteration 14, loss = inf\n",
            "Iteration 15, loss = inf\n",
            "Iteration 16, loss = inf\n",
            "Iteration 17, loss = inf\n",
            "Iteration 18, loss = inf\n",
            "Iteration 19, loss = inf\n",
            "Iteration 20, loss = inf\n",
            "Iteration 21, loss = inf\n",
            "Iteration 22, loss = inf\n",
            "Iteration 23, loss = inf\n",
            "Iteration 24, loss = inf\n",
            "Iteration 25, loss = inf\n",
            "Iteration 26, loss = inf\n",
            "Iteration 27, loss = inf\n",
            "Iteration 28, loss = inf\n",
            "Iteration 29, loss = inf\n",
            "Iteration 30, loss = 0.56860165\n",
            "Iteration 31, loss = inf\n",
            "Iteration 32, loss = 0.56882071\n",
            "Iteration 33, loss = 0.56317938\n",
            "Iteration 34, loss = 0.56306378\n",
            "Iteration 35, loss = 0.57085460\n",
            "Iteration 36, loss = 0.56570935\n",
            "Iteration 37, loss = 0.56230596\n",
            "Iteration 38, loss = 0.56109730\n",
            "Iteration 39, loss = 0.56089315\n",
            "Iteration 40, loss = 0.56401638\n",
            "Iteration 41, loss = 0.56185434\n",
            "Iteration 42, loss = 0.56195259\n",
            "Iteration 43, loss = 0.56324873\n",
            "Iteration 44, loss = 0.56127300\n",
            "Iteration 45, loss = 0.56368835\n",
            "Iteration 46, loss = 0.56185438\n",
            "Iteration 47, loss = 0.56403936\n",
            "Iteration 48, loss = 0.56401486\n",
            "Iteration 49, loss = 0.56199360\n",
            "Iteration 50, loss = 0.56061375\n",
            "Iteration 51, loss = 0.56237699\n",
            "Iteration 52, loss = 0.56289927\n",
            "Iteration 53, loss = 0.56346841\n",
            "Iteration 54, loss = 0.56344948\n",
            "Iteration 55, loss = 0.56217993\n",
            "Iteration 56, loss = 0.56265035\n",
            "Iteration 57, loss = 0.56151986\n",
            "Iteration 58, loss = 0.56157417\n",
            "Iteration 59, loss = 0.56785878\n",
            "Iteration 60, loss = 0.56291287\n",
            "Iteration 61, loss = 0.56334196\n",
            "Training loss did not improve more than tol=0.000100 for 10 consecutive epochs. Stopping.\n",
            "0.7063245306781062\n"
          ],
          "name": "stdout"
        }
      ]
    }
  ]
}